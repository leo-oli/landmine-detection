{
 "cells": [
  {
   "cell_type": "markdown",
   "id": "f21d3a9e-1066-4357-a6d5-792c3c7b51f5",
   "metadata": {},
   "source": [
    "# References\n",
    "\n",
    "- <https://doi.org/10.1109/ACCESS.2018.2866538>\n",
    "- <https://www.kaggle.com/datasets/joebeachcapital/land-mines>\n",
    "- <https://www.kaggle.com/datasets/ritwikb3/land-mines-detection>"
   ]
  },
  {
   "cell_type": "markdown",
   "id": "c747f01b-6f8c-428d-b8c8-667a6415e158",
   "metadata": {},
   "source": [
    "# Dataset Explanation\n",
    "\n",
    "The data are already normalized (all values are between `0` and `1`).\n",
    "\n",
    "- `V` - Voltage. Output voltage value of FLC sensor due to magnetic distortion\n",
    "- `H` - Height. The height of the sensor from the ground.\n",
    "- `S` - Soil. Six different soil types depending on the moisture condition.\n",
    "  * `1` = Dry and Sandy\n",
    "  * `2` = Dry and Humus\n",
    "  * `3` = Dry and Limy\n",
    "  * `4` = Humid and Sandy\n",
    "  * `5` = Humid and Humus\n",
    "  * `6` = Humid and Limy\n",
    "- `M` - Mine type. Mine types commonly encountered on land. Five different mine classes.\n",
    "  * `1` = (Null): 71\n",
    "  * `2` = (Anti-tank):70\n",
    "  * `3` = (Anti-personnel):66\n",
    "  * `4` = (Booby Trapped Anti-personnel):66\n",
    "  * `5` = (M14 Anti-personnel):65\n",
    "\n",
    "For this problem, only two mine labels are used: `0` for no mine, and `1` for a mine of any type."
   ]
  },
  {
   "cell_type": "markdown",
   "id": "194dcc2d-d7a7-4974-bf8e-8faf0dd50e22",
   "metadata": {},
   "source": [
    "# Imports"
   ]
  },
  {
   "cell_type": "code",
   "execution_count": 1,
   "id": "1c99c9c5-71e4-4fc2-a0e6-87c11d091601",
   "metadata": {},
   "outputs": [],
   "source": [
    "import os\n",
    "import pandas as pd\n",
    "import matplotlib.pyplot as plt\n",
    "import seaborn as sns\n",
    "from sklearn.preprocessing import MinMaxScaler\n",
    "from imblearn.over_sampling import RandomOverSampler\n",
    "from sklearn.model_selection import train_test_split\n",
    "\n",
    "BASE_DIR = os.path.abspath(\"\")\n",
    "DATA_DIR = os.path.join(BASE_DIR, \"..\", \"data\")\n",
    "ORIG_DATA_FILE = os.path.join(DATA_DIR, \"landmines.csv\")\n",
    "CLEANED_DATA_FILE = os.path.join(DATA_DIR, \"landmines-cleaned.csv\")\n",
    "RESAMPLED_DATA_FILE = os.path.join(DATA_DIR, \"landmines-resampled.csv\")\n",
    "TRAIN_DATA_FILE = os.path.join(DATA_DIR, \"landmines-train.csv\")\n",
    "TEST_DATA_FILE = os.path.join(DATA_DIR, \"landmines-test.csv\")"
   ]
  },
  {
   "cell_type": "markdown",
   "id": "7ee6f5fc-882a-446b-9c87-34d2f91d7ac7",
   "metadata": {},
   "source": [
    "# Data Analysis"
   ]
  },
  {
   "cell_type": "markdown",
   "id": "4e970753-1775-4927-a3d4-0ac2e7c14326",
   "metadata": {},
   "source": [
    "## Loading"
   ]
  },
  {
   "cell_type": "code",
   "execution_count": 2,
   "id": "e0ac1201-5b3a-40c1-b9b9-b15f0f2c5aad",
   "metadata": {},
   "outputs": [
    {
     "data": {
      "text/html": [
       "<div>\n",
       "<style scoped>\n",
       "    .dataframe tbody tr th:only-of-type {\n",
       "        vertical-align: middle;\n",
       "    }\n",
       "\n",
       "    .dataframe tbody tr th {\n",
       "        vertical-align: top;\n",
       "    }\n",
       "\n",
       "    .dataframe thead th {\n",
       "        text-align: right;\n",
       "    }\n",
       "</style>\n",
       "<table border=\"1\" class=\"dataframe\">\n",
       "  <thead>\n",
       "    <tr style=\"text-align: right;\">\n",
       "      <th></th>\n",
       "      <th>voltage</th>\n",
       "      <th>height</th>\n",
       "      <th>soil_type</th>\n",
       "      <th>mine_type</th>\n",
       "    </tr>\n",
       "  </thead>\n",
       "  <tbody>\n",
       "    <tr>\n",
       "      <th>0</th>\n",
       "      <td>0.338157</td>\n",
       "      <td>0.000000</td>\n",
       "      <td>1</td>\n",
       "      <td>1</td>\n",
       "    </tr>\n",
       "    <tr>\n",
       "      <th>1</th>\n",
       "      <td>0.320241</td>\n",
       "      <td>0.181818</td>\n",
       "      <td>1</td>\n",
       "      <td>1</td>\n",
       "    </tr>\n",
       "    <tr>\n",
       "      <th>2</th>\n",
       "      <td>0.287009</td>\n",
       "      <td>0.272727</td>\n",
       "      <td>1</td>\n",
       "      <td>1</td>\n",
       "    </tr>\n",
       "    <tr>\n",
       "      <th>3</th>\n",
       "      <td>0.256284</td>\n",
       "      <td>0.454545</td>\n",
       "      <td>1</td>\n",
       "      <td>1</td>\n",
       "    </tr>\n",
       "    <tr>\n",
       "      <th>4</th>\n",
       "      <td>0.262840</td>\n",
       "      <td>0.545455</td>\n",
       "      <td>1</td>\n",
       "      <td>1</td>\n",
       "    </tr>\n",
       "  </tbody>\n",
       "</table>\n",
       "</div>"
      ],
      "text/plain": [
       "    voltage    height  soil_type  mine_type\n",
       "0  0.338157  0.000000          1          1\n",
       "1  0.320241  0.181818          1          1\n",
       "2  0.287009  0.272727          1          1\n",
       "3  0.256284  0.454545          1          1\n",
       "4  0.262840  0.545455          1          1"
      ]
     },
     "execution_count": 2,
     "metadata": {},
     "output_type": "execute_result"
    }
   ],
   "source": [
    "df = pd.read_csv(ORIG_DATA_FILE)\n",
    "df = df.rename(columns={\n",
    "    \"V\": \"voltage\",\n",
    "    \"H\": \"height\",\n",
    "    \"S\": \"soil_type\",\n",
    "    \"M\": \"mine_type\"\n",
    "})\n",
    "df.head()"
   ]
  },
  {
   "cell_type": "markdown",
   "id": "48c78c57-43c7-4d83-b1ec-b060b295cb5f",
   "metadata": {},
   "source": [
    "## Binary Column"
   ]
  },
  {
   "cell_type": "code",
   "execution_count": 3,
   "id": "97f2ba9a-702b-4807-9b1b-289195b91bed",
   "metadata": {},
   "outputs": [
    {
     "data": {
      "text/html": [
       "<div>\n",
       "<style scoped>\n",
       "    .dataframe tbody tr th:only-of-type {\n",
       "        vertical-align: middle;\n",
       "    }\n",
       "\n",
       "    .dataframe tbody tr th {\n",
       "        vertical-align: top;\n",
       "    }\n",
       "\n",
       "    .dataframe thead th {\n",
       "        text-align: right;\n",
       "    }\n",
       "</style>\n",
       "<table border=\"1\" class=\"dataframe\">\n",
       "  <thead>\n",
       "    <tr style=\"text-align: right;\">\n",
       "      <th></th>\n",
       "      <th>voltage</th>\n",
       "      <th>height</th>\n",
       "      <th>soil_type</th>\n",
       "      <th>mine_type</th>\n",
       "      <th>is_mine</th>\n",
       "    </tr>\n",
       "  </thead>\n",
       "  <tbody>\n",
       "    <tr>\n",
       "      <th>0</th>\n",
       "      <td>0.338157</td>\n",
       "      <td>0.000000</td>\n",
       "      <td>1</td>\n",
       "      <td>1</td>\n",
       "      <td>0</td>\n",
       "    </tr>\n",
       "    <tr>\n",
       "      <th>1</th>\n",
       "      <td>0.320241</td>\n",
       "      <td>0.181818</td>\n",
       "      <td>1</td>\n",
       "      <td>1</td>\n",
       "      <td>0</td>\n",
       "    </tr>\n",
       "    <tr>\n",
       "      <th>2</th>\n",
       "      <td>0.287009</td>\n",
       "      <td>0.272727</td>\n",
       "      <td>1</td>\n",
       "      <td>1</td>\n",
       "      <td>0</td>\n",
       "    </tr>\n",
       "    <tr>\n",
       "      <th>3</th>\n",
       "      <td>0.256284</td>\n",
       "      <td>0.454545</td>\n",
       "      <td>1</td>\n",
       "      <td>1</td>\n",
       "      <td>0</td>\n",
       "    </tr>\n",
       "    <tr>\n",
       "      <th>4</th>\n",
       "      <td>0.262840</td>\n",
       "      <td>0.545455</td>\n",
       "      <td>1</td>\n",
       "      <td>1</td>\n",
       "      <td>0</td>\n",
       "    </tr>\n",
       "  </tbody>\n",
       "</table>\n",
       "</div>"
      ],
      "text/plain": [
       "    voltage    height  soil_type  mine_type  is_mine\n",
       "0  0.338157  0.000000          1          1        0\n",
       "1  0.320241  0.181818          1          1        0\n",
       "2  0.287009  0.272727          1          1        0\n",
       "3  0.256284  0.454545          1          1        0\n",
       "4  0.262840  0.545455          1          1        0"
      ]
     },
     "execution_count": 3,
     "metadata": {},
     "output_type": "execute_result"
    }
   ],
   "source": [
    "df[\"is_mine\"] = (df[\"mine_type\"] > 1).astype(\"int\")\n",
    "df.head()"
   ]
  },
  {
   "cell_type": "markdown",
   "id": "1e85a4f1-cbc1-4e8b-96a0-4da0c9de5632",
   "metadata": {},
   "source": [
    "## Saving and Loading"
   ]
  },
  {
   "cell_type": "code",
   "execution_count": 4,
   "id": "1d88525c-9edd-4c3d-99f7-708c62bf2034",
   "metadata": {},
   "outputs": [],
   "source": [
    "df.to_csv(CLEANED_DATA_FILE, index=False)"
   ]
  },
  {
   "cell_type": "code",
   "execution_count": 5,
   "id": "117e9fba-d281-48b7-8f68-f9b633dbc118",
   "metadata": {},
   "outputs": [],
   "source": [
    "df = pd.read_csv(CLEANED_DATA_FILE)"
   ]
  },
  {
   "cell_type": "markdown",
   "id": "2b69cb13-6982-4e59-a120-f76f65aad074",
   "metadata": {},
   "source": [
    "## Basic Analysis"
   ]
  },
  {
   "cell_type": "code",
   "execution_count": 6,
   "id": "932b6e92-7829-426e-8c92-77dc471a01d9",
   "metadata": {},
   "outputs": [
    {
     "data": {
      "text/html": [
       "<div>\n",
       "<style scoped>\n",
       "    .dataframe tbody tr th:only-of-type {\n",
       "        vertical-align: middle;\n",
       "    }\n",
       "\n",
       "    .dataframe tbody tr th {\n",
       "        vertical-align: top;\n",
       "    }\n",
       "\n",
       "    .dataframe thead th {\n",
       "        text-align: right;\n",
       "    }\n",
       "</style>\n",
       "<table border=\"1\" class=\"dataframe\">\n",
       "  <thead>\n",
       "    <tr style=\"text-align: right;\">\n",
       "      <th></th>\n",
       "      <th>count</th>\n",
       "      <th>mean</th>\n",
       "      <th>std</th>\n",
       "      <th>min</th>\n",
       "      <th>25%</th>\n",
       "      <th>50%</th>\n",
       "      <th>75%</th>\n",
       "      <th>max</th>\n",
       "    </tr>\n",
       "  </thead>\n",
       "  <tbody>\n",
       "    <tr>\n",
       "      <th>voltage</th>\n",
       "      <td>338.0</td>\n",
       "      <td>0.43</td>\n",
       "      <td>0.20</td>\n",
       "      <td>0.2</td>\n",
       "      <td>0.31</td>\n",
       "      <td>0.36</td>\n",
       "      <td>0.48</td>\n",
       "      <td>1.0</td>\n",
       "    </tr>\n",
       "    <tr>\n",
       "      <th>height</th>\n",
       "      <td>338.0</td>\n",
       "      <td>0.51</td>\n",
       "      <td>0.31</td>\n",
       "      <td>0.0</td>\n",
       "      <td>0.27</td>\n",
       "      <td>0.55</td>\n",
       "      <td>0.73</td>\n",
       "      <td>1.0</td>\n",
       "    </tr>\n",
       "    <tr>\n",
       "      <th>soil_type</th>\n",
       "      <td>338.0</td>\n",
       "      <td>3.52</td>\n",
       "      <td>1.72</td>\n",
       "      <td>1.0</td>\n",
       "      <td>2.00</td>\n",
       "      <td>4.00</td>\n",
       "      <td>5.00</td>\n",
       "      <td>6.0</td>\n",
       "    </tr>\n",
       "    <tr>\n",
       "      <th>mine_type</th>\n",
       "      <td>338.0</td>\n",
       "      <td>2.95</td>\n",
       "      <td>1.42</td>\n",
       "      <td>1.0</td>\n",
       "      <td>2.00</td>\n",
       "      <td>3.00</td>\n",
       "      <td>4.00</td>\n",
       "      <td>5.0</td>\n",
       "    </tr>\n",
       "    <tr>\n",
       "      <th>is_mine</th>\n",
       "      <td>338.0</td>\n",
       "      <td>0.79</td>\n",
       "      <td>0.41</td>\n",
       "      <td>0.0</td>\n",
       "      <td>1.00</td>\n",
       "      <td>1.00</td>\n",
       "      <td>1.00</td>\n",
       "      <td>1.0</td>\n",
       "    </tr>\n",
       "  </tbody>\n",
       "</table>\n",
       "</div>"
      ],
      "text/plain": [
       "           count  mean   std  min   25%   50%   75%  max\n",
       "voltage    338.0  0.43  0.20  0.2  0.31  0.36  0.48  1.0\n",
       "height     338.0  0.51  0.31  0.0  0.27  0.55  0.73  1.0\n",
       "soil_type  338.0  3.52  1.72  1.0  2.00  4.00  5.00  6.0\n",
       "mine_type  338.0  2.95  1.42  1.0  2.00  3.00  4.00  5.0\n",
       "is_mine    338.0  0.79  0.41  0.0  1.00  1.00  1.00  1.0"
      ]
     },
     "execution_count": 6,
     "metadata": {},
     "output_type": "execute_result"
    }
   ],
   "source": [
    "df.describe().round(2).transpose()"
   ]
  },
  {
   "cell_type": "code",
   "execution_count": 7,
   "id": "dba7ee27-40d7-48c4-9529-99b3b89e4a4c",
   "metadata": {},
   "outputs": [
    {
     "name": "stdout",
     "output_type": "stream",
     "text": [
      "<class 'pandas.core.frame.DataFrame'>\n",
      "RangeIndex: 338 entries, 0 to 337\n",
      "Data columns (total 5 columns):\n",
      " #   Column     Non-Null Count  Dtype  \n",
      "---  ------     --------------  -----  \n",
      " 0   voltage    338 non-null    float64\n",
      " 1   height     338 non-null    float64\n",
      " 2   soil_type  338 non-null    int64  \n",
      " 3   mine_type  338 non-null    int64  \n",
      " 4   is_mine    338 non-null    int64  \n",
      "dtypes: float64(2), int64(3)\n",
      "memory usage: 13.3 KB\n"
     ]
    }
   ],
   "source": [
    "df.info()"
   ]
  },
  {
   "cell_type": "markdown",
   "id": "398ad86c-fe45-4bb1-aabb-3caeac86f21f",
   "metadata": {},
   "source": [
    "## Missing Values"
   ]
  },
  {
   "cell_type": "code",
   "execution_count": 8,
   "id": "3304b82a-2c17-4d30-adbf-a828b00e3233",
   "metadata": {},
   "outputs": [
    {
     "data": {
      "text/plain": [
       "voltage      0\n",
       "height       0\n",
       "soil_type    0\n",
       "mine_type    0\n",
       "is_mine      0\n",
       "dtype: int64"
      ]
     },
     "execution_count": 8,
     "metadata": {},
     "output_type": "execute_result"
    }
   ],
   "source": [
    "df.isna().sum()"
   ]
  },
  {
   "cell_type": "markdown",
   "id": "4563773b-1287-402c-b015-47c6eff5e753",
   "metadata": {},
   "source": [
    "## Plots"
   ]
  },
  {
   "cell_type": "markdown",
   "id": "aafe1d1d-eb1a-47a0-abe6-6a4a4cb3f251",
   "metadata": {},
   "source": [
    "### Single"
   ]
  },
  {
   "cell_type": "code",
   "execution_count": 9,
   "id": "0fac160b-44a0-4b8e-b15d-48f25dcd5299",
   "metadata": {},
   "outputs": [
    {
     "data": {
      "text/plain": [
       "<Axes: xlabel='voltage', ylabel='Percent'>"
      ]
     },
     "execution_count": 9,
     "metadata": {},
     "output_type": "execute_result"
    },
    {
     "data": {
      "image/png": "[encoded data removed]",
      "text/plain": [
       "<Figure size 640x480 with 1 Axes>"
      ]
     },
     "metadata": {},
     "output_type": "display_data"
    }
   ],
   "source": [
    "sns.histplot(data=df, x=\"voltage\", stat=\"percent\")"
   ]
  },
  {
   "cell_type": "code",
   "execution_count": 10,
   "id": "dc3bef6e-594a-440e-b9e8-e01fdef08e52",
   "metadata": {},
   "outputs": [
    {
     "data": {
      "text/plain": [
       "<Axes: xlabel='height', ylabel='Percent'>"
      ]
     },
     "execution_count": 10,
     "metadata": {},
     "output_type": "execute_result"
    },
    {
     "data": {
      "image/png": "[encoded data removed]",
      "text/plain": [
       "<Figure size 640x480 with 1 Axes>"
      ]
     },
     "metadata": {},
     "output_type": "display_data"
    }
   ],
   "source": [
    "sns.histplot(data=df, x=\"height\", stat=\"percent\")"
   ]
  },
  {
   "cell_type": "code",
   "execution_count": 11,
   "id": "599c68fd-22ed-4d87-9d24-f759c327d617",
   "metadata": {},
   "outputs": [
    {
     "data": {
      "text/plain": [
       "<Axes: xlabel='soil_type', ylabel='percent'>"
      ]
     },
     "execution_count": 11,
     "metadata": {},
     "output_type": "execute_result"
    },
    {
     "data": {
      "image/png": "[encoded data removed]",
      "text/plain": [
       "<Figure size 640x480 with 1 Axes>"
      ]
     },
     "metadata": {},
     "output_type": "display_data"
    }
   ],
   "source": [
    "sns.countplot(data=df, x=\"soil_type\", stat=\"percent\")"
   ]
  },
  {
   "cell_type": "code",
   "execution_count": 12,
   "id": "0c7a0398-a36f-4231-b3eb-71a78af5f8e2",
   "metadata": {},
   "outputs": [
    {
     "data": {
      "text/plain": [
       "<Axes: xlabel='mine_type', ylabel='percent'>"
      ]
     },
     "execution_count": 12,
     "metadata": {},
     "output_type": "execute_result"
    },
    {
     "data": {
      "image/png": "[encoded data removed]",
      "text/plain": [
       "<Figure size 640x480 with 1 Axes>"
      ]
     },
     "metadata": {},
     "output_type": "display_data"
    }
   ],
   "source": [
    "sns.countplot(data=df, x=\"mine_type\", stat=\"percent\")"
   ]
  },
  {
   "cell_type": "code",
   "execution_count": 13,
   "id": "52fea271-fcbb-4518-bcdd-6eaa625a1881",
   "metadata": {},
   "outputs": [
    {
     "data": {
      "text/plain": [
       "Text(0.5, 1.0, 'is_mine')"
      ]
     },
     "execution_count": 13,
     "metadata": {},
     "output_type": "execute_result"
    },
    {
     "data": {
      "image/png": "[encoded data removed]",
      "text/plain": [
       "<Figure size 640x480 with 1 Axes>"
      ]
     },
     "metadata": {},
     "output_type": "display_data"
    }
   ],
   "source": [
    "df.groupby(\"is_mine\").size().plot.pie(autopct=\"%1.0f%%\").set_title(\"is_mine\")"
   ]
  },
  {
   "cell_type": "markdown",
   "id": "633707a8-13f0-456f-8676-2941d9c723a0",
   "metadata": {},
   "source": [
    "### Double"
   ]
  },
  {
   "cell_type": "code",
   "execution_count": 14,
   "id": "4eb7b4fa-f840-4633-a068-7296204ac291",
   "metadata": {},
   "outputs": [
    {
     "data": {
      "text/plain": [
       "<Axes: xlabel='is_mine', ylabel='voltage'>"
      ]
     },
     "execution_count": 14,
     "metadata": {},
     "output_type": "execute_result"
    },
    {
     "data": {
      "image/png": "[encoded data removed]",
      "text/plain": [
       "<Figure size 640x480 with 1 Axes>"
      ]
     },
     "metadata": {},
     "output_type": "display_data"
    }
   ],
   "source": [
    "sns.boxplot(data=df, x=\"is_mine\", y=\"voltage\")"
   ]
  },
  {
   "cell_type": "code",
   "execution_count": 15,
   "id": "17223889-cb63-4522-9af5-24572787696f",
   "metadata": {},
   "outputs": [
    {
     "data": {
      "text/plain": [
       "<Axes: xlabel='is_mine', ylabel='height'>"
      ]
     },
     "execution_count": 15,
     "metadata": {},
     "output_type": "execute_result"
    },
    {
     "data": {
      "image/png": "[encoded data removed]",
      "text/plain": [
       "<Figure size 640x480 with 1 Axes>"
      ]
     },
     "metadata": {},
     "output_type": "display_data"
    }
   ],
   "source": [
    "sns.boxplot(data=df, x=\"is_mine\", y=\"height\")"
   ]
  },
  {
   "cell_type": "code",
   "execution_count": 16,
   "id": "0ab49c6f-bcf0-4384-b136-bb6be3e044f6",
   "metadata": {},
   "outputs": [
    {
     "data": {
      "text/plain": [
       "<Axes: xlabel='soil_type', ylabel='percent'>"
      ]
     },
     "execution_count": 16,
     "metadata": {},
     "output_type": "execute_result"
    },
    {
     "data": {
      "image/png": "[encoded data removed]",
      "text/plain": [
       "<Figure size 640x480 with 1 Axes>"
      ]
     },
     "metadata": {},
     "output_type": "display_data"
    }
   ],
   "source": [
    "sns.countplot(data=df, x=\"soil_type\", hue=\"is_mine\", stat=\"percent\")"
   ]
  },
  {
   "cell_type": "code",
   "execution_count": 17,
   "id": "f520789e-950f-4e5f-985b-a3612c7c8654",
   "metadata": {},
   "outputs": [
    {
     "data": {
      "text/plain": [
       "<Axes: >"
      ]
     },
     "execution_count": 17,
     "metadata": {},
     "output_type": "execute_result"
    },
    {
     "data": {
      "image/png": "[encoded data removed]",
      "text/plain": [
       "<Figure size 640x480 with 2 Axes>"
      ]
     },
     "metadata": {},
     "output_type": "display_data"
    }
   ],
   "source": [
    "sns.heatmap(df.corr(), annot=True)"
   ]
  },
  {
   "cell_type": "markdown",
   "id": "429ae8fc-6ea0-4138-bfad-7d378dc57b9d",
   "metadata": {},
   "source": [
    "## Conclusions\n",
    "\n",
    "The dataset is not balanced since there are more mines than non-mines. The dataset should be balanced so that thei number is equal. For that purpose, `RandomOverSampler` is used.\n",
    "\n",
    "Also, there is some correlation between voltage and the presence of a landmine as well as voltage and height."
   ]
  },
  {
   "cell_type": "markdown",
   "id": "e4eb7085-0d8a-4a6e-a6fc-dd8d86a669b0",
   "metadata": {},
   "source": [
    "# Data Preparation"
   ]
  },
  {
   "cell_type": "markdown",
   "id": "39c5e063-a93f-45f4-9097-8d53ed8526d1",
   "metadata": {},
   "source": [
    "## Loading"
   ]
  },
  {
   "cell_type": "code",
   "execution_count": 18,
   "id": "c7e979e0-83ef-4d7f-b59f-437a35c8d5f7",
   "metadata": {},
   "outputs": [
    {
     "data": {
      "text/html": [
       "<div>\n",
       "<style scoped>\n",
       "    .dataframe tbody tr th:only-of-type {\n",
       "        vertical-align: middle;\n",
       "    }\n",
       "\n",
       "    .dataframe tbody tr th {\n",
       "        vertical-align: top;\n",
       "    }\n",
       "\n",
       "    .dataframe thead th {\n",
       "        text-align: right;\n",
       "    }\n",
       "</style>\n",
       "<table border=\"1\" class=\"dataframe\">\n",
       "  <thead>\n",
       "    <tr style=\"text-align: right;\">\n",
       "      <th></th>\n",
       "      <th>voltage</th>\n",
       "      <th>height</th>\n",
       "      <th>soil_type</th>\n",
       "      <th>mine_type</th>\n",
       "      <th>is_mine</th>\n",
       "    </tr>\n",
       "  </thead>\n",
       "  <tbody>\n",
       "    <tr>\n",
       "      <th>0</th>\n",
       "      <td>0.338157</td>\n",
       "      <td>0.000000</td>\n",
       "      <td>1</td>\n",
       "      <td>1</td>\n",
       "      <td>0</td>\n",
       "    </tr>\n",
       "    <tr>\n",
       "      <th>1</th>\n",
       "      <td>0.320241</td>\n",
       "      <td>0.181818</td>\n",
       "      <td>1</td>\n",
       "      <td>1</td>\n",
       "      <td>0</td>\n",
       "    </tr>\n",
       "    <tr>\n",
       "      <th>2</th>\n",
       "      <td>0.287009</td>\n",
       "      <td>0.272727</td>\n",
       "      <td>1</td>\n",
       "      <td>1</td>\n",
       "      <td>0</td>\n",
       "    </tr>\n",
       "    <tr>\n",
       "      <th>3</th>\n",
       "      <td>0.256284</td>\n",
       "      <td>0.454545</td>\n",
       "      <td>1</td>\n",
       "      <td>1</td>\n",
       "      <td>0</td>\n",
       "    </tr>\n",
       "    <tr>\n",
       "      <th>4</th>\n",
       "      <td>0.262840</td>\n",
       "      <td>0.545455</td>\n",
       "      <td>1</td>\n",
       "      <td>1</td>\n",
       "      <td>0</td>\n",
       "    </tr>\n",
       "  </tbody>\n",
       "</table>\n",
       "</div>"
      ],
      "text/plain": [
       "    voltage    height  soil_type  mine_type  is_mine\n",
       "0  0.338157  0.000000          1          1        0\n",
       "1  0.320241  0.181818          1          1        0\n",
       "2  0.287009  0.272727          1          1        0\n",
       "3  0.256284  0.454545          1          1        0\n",
       "4  0.262840  0.545455          1          1        0"
      ]
     },
     "execution_count": 18,
     "metadata": {},
     "output_type": "execute_result"
    }
   ],
   "source": [
    "df = pd.read_csv(CLEANED_DATA_FILE)\n",
    "df.head()"
   ]
  },
  {
   "cell_type": "markdown",
   "id": "a03b0e39-28be-4e27-ac81-28e3e551e282",
   "metadata": {},
   "source": [
    "## Scaling"
   ]
  },
  {
   "cell_type": "code",
   "execution_count": 19,
   "id": "c27cb93e-fe56-4615-a791-229d702e63dc",
   "metadata": {},
   "outputs": [],
   "source": [
    "scaler = MinMaxScaler()\n",
    "df[\"soil_type\"] = scaler.fit_transform(df[[\"soil_type\"]])"
   ]
  },
  {
   "cell_type": "markdown",
   "id": "327f86d5-73e2-412a-a236-6db6586a3696",
   "metadata": {},
   "source": [
    "## Feature Selection"
   ]
  },
  {
   "cell_type": "code",
   "execution_count": 20,
   "id": "b618e485-1fa1-44a9-aab2-0f3bb09a9986",
   "metadata": {},
   "outputs": [],
   "source": [
    "x = df.drop(columns=[\"mine_type\", \"is_mine\"]).values\n",
    "y = df[[\"is_mine\"]].values"
   ]
  },
  {
   "cell_type": "markdown",
   "id": "0377a6d3-82b7-4de4-a08f-e08a1562a7ab",
   "metadata": {},
   "source": [
    "## Oversampling"
   ]
  },
  {
   "cell_type": "code",
   "execution_count": 21,
   "id": "edb7de57-a017-42fb-a64a-50d99630dee2",
   "metadata": {},
   "outputs": [],
   "source": [
    "ros = RandomOverSampler()\n",
    "x_resampled, y_resampled = ros.fit_resample(x, y)"
   ]
  },
  {
   "cell_type": "code",
   "execution_count": 22,
   "id": "97d7ac9c-1812-45e7-81bd-79ab8c726cc4",
   "metadata": {},
   "outputs": [
    {
     "data": {
      "text/plain": [
       "338"
      ]
     },
     "execution_count": 22,
     "metadata": {},
     "output_type": "execute_result"
    }
   ],
   "source": [
    "len(x)"
   ]
  },
  {
   "cell_type": "code",
   "execution_count": 23,
   "id": "04b02507-bd3f-47c0-b5e5-fd3fc98f7007",
   "metadata": {},
   "outputs": [
    {
     "data": {
      "text/plain": [
       "534"
      ]
     },
     "execution_count": 23,
     "metadata": {},
     "output_type": "execute_result"
    }
   ],
   "source": [
    "len(x_resampled)"
   ]
  },
  {
   "cell_type": "markdown",
   "id": "43375515-19fa-45e4-b799-34d410a7fd00",
   "metadata": {},
   "source": [
    "## Saving"
   ]
  },
  {
   "cell_type": "code",
   "execution_count": 24,
   "id": "9121b98b-4925-4a8e-a9c6-57bf1c231e0c",
   "metadata": {},
   "outputs": [],
   "source": [
    "df_resampled = pd.DataFrame(columns=[\"voltage\", \"height\", \"soil_type\"], data=x_resampled)\n",
    "df_resampled[\"is_mine\"] = y_resampled"
   ]
  },
  {
   "cell_type": "code",
   "execution_count": 25,
   "id": "941db05a-81e5-4737-ba44-05f6a2e32f6d",
   "metadata": {},
   "outputs": [],
   "source": [
    "df_resampled.to_csv(RESAMPLED_DATA_FILE, index=False)"
   ]
  },
  {
   "cell_type": "markdown",
   "id": "d7f63f45-c2f0-4cdd-946f-446be62e23e8",
   "metadata": {},
   "source": [
    "## Train-Test Split"
   ]
  },
  {
   "cell_type": "code",
   "execution_count": 26,
   "id": "0a727dc2-cb69-4159-9205-23db6111a866",
   "metadata": {},
   "outputs": [],
   "source": [
    "df = pd.read_csv(RESAMPLED_DATA_FILE)"
   ]
  },
  {
   "cell_type": "code",
   "execution_count": 27,
   "id": "48442ae2-5f74-4753-b3d3-0d04cbe1e822",
   "metadata": {},
   "outputs": [],
   "source": [
    "x = df.drop(columns=[\"is_mine\"]).values\n",
    "y = df[[\"is_mine\"]].values"
   ]
  },
  {
   "cell_type": "code",
   "execution_count": 28,
   "id": "828fa68e-5abd-4bd7-a961-e7f5796c0c6d",
   "metadata": {},
   "outputs": [],
   "source": [
    "x_train, x_test, y_train, y_test = train_test_split(x_resampled, y_resampled, test_size=0.2, random_state=0)"
   ]
  },
  {
   "cell_type": "code",
   "execution_count": 29,
   "id": "3f24313a-3bb7-4319-a9a8-40e4b2144385",
   "metadata": {},
   "outputs": [
    {
     "data": {
      "text/plain": [
       "array([[0.33534705, 0.27272727, 0.6       ],\n",
       "       [0.30211447, 0.90909091, 1.        ],\n",
       "       [0.35368536, 0.72727273, 0.8       ],\n",
       "       ...,\n",
       "       [0.33534705, 0.18181818, 0.6       ],\n",
       "       [0.3383682 , 0.09090909, 0.4       ],\n",
       "       [0.53474256, 0.27272727, 0.6       ]])"
      ]
     },
     "execution_count": 29,
     "metadata": {},
     "output_type": "execute_result"
    }
   ],
   "source": [
    "x_train"
   ]
  },
  {
   "cell_type": "code",
   "execution_count": 30,
   "id": "fe47c3ca-ecc5-4149-bf97-f31d4340e4f6",
   "metadata": {},
   "outputs": [
    {
     "data": {
      "text/plain": [
       "array([0, 0, 1, 1, 1, 1, 1, 0, 0, 1, 0, 0, 0, 1, 1, 1, 0, 1, 0, 1, 0, 0,\n",
       "       0, 0, 0, 0, 1, 1, 1, 1, 1, 0, 1, 1, 1, 1, 0, 1, 1, 1, 1, 0, 0, 0,\n",
       "       1, 1, 1, 0, 0, 0, 0, 1, 0, 0, 1, 1, 1, 0, 1, 0, 0, 0, 0, 0, 1, 1,\n",
       "       1, 1, 1, 0, 0, 0, 0, 0, 0, 1, 1, 1, 0, 1, 1, 1, 0, 0, 1, 0, 0, 0,\n",
       "       1, 0, 1, 1, 1, 0, 1, 0, 0, 0, 1, 1, 0, 0, 0, 1, 0, 0, 1, 1, 0, 0,\n",
       "       0, 0, 0, 0, 1, 0, 0, 1, 0, 0, 0, 1, 1, 1, 1, 1, 0, 1, 1, 0, 1, 0,\n",
       "       0, 1, 0, 1, 0, 0, 1, 1, 1, 0, 1, 0, 0, 0, 1, 0, 0, 0, 1, 1, 1, 1,\n",
       "       0, 0, 1, 1, 0, 0, 0, 1, 1, 0, 1, 1, 0, 1, 1, 0, 1, 1, 1, 0, 1, 0,\n",
       "       0, 0, 1, 0, 1, 0, 1, 0, 1, 1, 1, 0, 0, 0, 1, 1, 1, 1, 0, 0, 0, 0,\n",
       "       0, 0, 1, 0, 0, 0, 1, 0, 0, 1, 1, 1, 0, 0, 0, 1, 0, 1, 1, 0, 1, 0,\n",
       "       1, 1, 0, 1, 1, 1, 1, 1, 1, 0, 0, 0, 1, 0, 1, 0, 0, 1, 0, 1, 1, 0,\n",
       "       1, 0, 1, 1, 1, 0, 1, 1, 1, 0, 0, 1, 1, 0, 1, 0, 1, 0, 0, 1, 1, 0,\n",
       "       0, 0, 0, 0, 1, 1, 0, 1, 0, 0, 0, 0, 0, 1, 1, 1, 1, 1, 0, 0, 0, 1,\n",
       "       1, 0, 1, 0, 1, 1, 1, 0, 0, 0, 1, 1, 0, 1, 1, 0, 1, 1, 1, 0, 0, 0,\n",
       "       1, 1, 1, 0, 0, 1, 1, 0, 0, 0, 0, 0, 0, 0, 1, 0, 0, 0, 1, 0, 0, 1,\n",
       "       0, 1, 1, 0, 1, 1, 1, 1, 0, 1, 1, 1, 1, 0, 0, 0, 1, 1, 0, 0, 1, 1,\n",
       "       1, 1, 0, 0, 1, 1, 1, 0, 1, 1, 1, 1, 0, 1, 0, 0, 0, 0, 0, 1, 1, 0,\n",
       "       1, 1, 0, 1, 1, 0, 1, 1, 0, 0, 0, 0, 1, 0, 1, 1, 0, 0, 0, 0, 1, 0,\n",
       "       0, 1, 1, 0, 1, 0, 0, 1, 1, 0, 1, 1, 0, 1, 1, 1, 0, 0, 1, 1, 1, 1,\n",
       "       0, 1, 0, 0, 1, 1, 0, 0, 1])"
      ]
     },
     "execution_count": 30,
     "metadata": {},
     "output_type": "execute_result"
    }
   ],
   "source": [
    "y_train"
   ]
  },
  {
   "cell_type": "markdown",
   "id": "cbbdab53-26cb-438a-add2-82158901d8c7",
   "metadata": {},
   "source": [
    "## Saving"
   ]
  },
  {
   "cell_type": "code",
   "execution_count": 31,
   "id": "46bc6989-ae86-4857-99f3-ab9cadb5dd36",
   "metadata": {},
   "outputs": [],
   "source": [
    "x_columns = [\"voltage\", \"height\", \"soil_type\"]\n",
    "\n",
    "df_train = pd.DataFrame(columns=x_columns, data=x_train)\n",
    "df_train[\"is_mine\"] = y_train\n",
    "\n",
    "df_test = pd.DataFrame(columns=x_columns, data=x_test)\n",
    "df_test[\"is_mine\"] = y_test"
   ]
  },
  {
   "cell_type": "code",
   "execution_count": 32,
   "id": "989b8a01-cfd3-42f5-8d54-47f6a4e30d70",
   "metadata": {},
   "outputs": [],
   "source": [
    "df_train.to_csv(TRAIN_DATA_FILE, index=False)\n",
    "df_test.to_csv(TEST_DATA_FILE, index=False)"
   ]
  },
  {
   "cell_type": "markdown",
   "id": "a833b585-085c-4cc7-a013-be52a1d595be",
   "metadata": {},
   "source": [
    "## Checking the Oversampling"
   ]
  },
  {
   "cell_type": "code",
   "execution_count": 33,
   "id": "1f782714-b8a2-411b-aa7c-6b10d1417b8e",
   "metadata": {},
   "outputs": [
    {
     "data": {
      "text/plain": [
       "Text(0.5, 1.0, 'is_mine')"
      ]
     },
     "execution_count": 33,
     "metadata": {},
     "output_type": "execute_result"
    },
    {
     "data": {
      "image/png": "[encoded data removed]",
      "text/plain": [
       "<Figure size 640x480 with 1 Axes>"
      ]
     },
     "metadata": {},
     "output_type": "display_data"
    }
   ],
   "source": [
    "df_train.groupby(\"is_mine\").size().plot.pie(autopct=\"%1.0f%%\").set_title(\"is_mine\")"
   ]
  }
 ],
 "metadata": {
  "kernelspec": {
   "display_name": "Python 3 (ipykernel)",
   "language": "python",
   "name": "python3"
  },
  "language_info": {
   "codemirror_mode": {
    "name": "ipython",
    "version": 3
   },
   "file_extension": ".py",
   "mimetype": "text/x-python",
   "name": "python",
   "nbconvert_exporter": "python",
   "pygments_lexer": "ipython3",
   "version": "3.12.7"
  }
 },
 "nbformat": 4,
 "nbformat_minor": 5
}
